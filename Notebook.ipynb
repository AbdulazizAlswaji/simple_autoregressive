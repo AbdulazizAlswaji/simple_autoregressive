{
  "nbformat": 4,
  "nbformat_minor": 0,
  "metadata": {
    "colab": {
      "name": "Untitled4.ipynb",
      "provenance": []
    },
    "kernelspec": {
      "name": "python3",
      "display_name": "Python 3"
    }
  },
  "cells": [
    {
      "cell_type": "code",
      "metadata": {
        "id": "uR4_XkUix5uT",
        "colab_type": "code",
        "colab": {}
      },
      "source": [
        "import tensorflow as tf\n",
        "from tensorflow.keras.layers import Input, Dense\n",
        "from tensorflow.keras.models import Model\n",
        "from tensorflow.keras.optimizers import SGD, Adam\n",
        "\n",
        "import numpy as np\n",
        "import pandas as pd\n",
        "import matplotlib.pyplot as plt"
      ],
      "execution_count": 6,
      "outputs": []
    },
    {
      "cell_type": "code",
      "metadata": {
        "id": "xyEp2_mWzN91",
        "colab_type": "code",
        "colab": {
          "base_uri": "https://localhost:8080/",
          "height": 265
        },
        "outputId": "ed04f6c9-0946-44d2-c744-08c3a739f8ce"
      },
      "source": [
        "series = np.sin(0.1 * np.arange(200))\n",
        "plt.plot(series)\n",
        "plt.show()"
      ],
      "execution_count": 7,
      "outputs": [
        {
          "output_type": "display_data",
          "data": {
            "image/png": "[encoded data removed]",
            "text/plain": [
              "<Figure size 432x288 with 1 Axes>"
            ]
          },
          "metadata": {
            "tags": [],
            "needs_background": "light"
          }
        }
      ]
    },
    {
      "cell_type": "code",
      "metadata": {
        "id": "9oJzGMFu0Ozv",
        "colab_type": "code",
        "colab": {
          "base_uri": "https://localhost:8080/",
          "height": 35
        },
        "outputId": "198b3715-8c34-4a26-8d40-4a3685318aa7"
      },
      "source": [
        "T = 10\n",
        "X = []\n",
        "Y = []\n",
        "for t in range(len(series) - T):\n",
        "  x = series[t:t+T]\n",
        "  X.append(x)\n",
        "  y = series[t+T]\n",
        "  Y.append(y)\n",
        "\n",
        "X = np.array(X).reshape(-1, T)\n",
        "Y = np.array(Y)\n",
        "N = len(X)\n",
        "print(\"X.shape\", X.shape, \"Y.shape\", Y.shape)"
      ],
      "execution_count": 28,
      "outputs": [
        {
          "output_type": "stream",
          "text": [
            "X.shape (190, 10) Y.shape (190,)\n"
          ],
          "name": "stdout"
        }
      ]
    },
    {
      "cell_type": "code",
      "metadata": {
        "id": "k-AbeeGA1rn1",
        "colab_type": "code",
        "colab": {
          "base_uri": "https://localhost:8080/",
          "height": 1000
        },
        "outputId": "2617cf1f-e98c-48ba-ebe1-e9b5230e334e"
      },
      "source": [
        "i = Input(shape=(T,))\n",
        "x = Dense(1)(i)\n",
        "model = Model(i, x)\n",
        "model.compile( loss='mse', optimizer=Adam(lr=0.1))\n",
        "\n",
        "r = model.fit(\n",
        "    X[:-N // 2] , Y[:-N // 2],\n",
        "    epochs=80,\n",
        "    validation_data=(X[-N//2:], Y[-N//2:])\n",
        ")"
      ],
      "execution_count": 67,
      "outputs": [
        {
          "output_type": "stream",
          "text": [
            "Epoch 1/80\n",
            "3/3 [==============================] - 0s 36ms/step - loss: 0.4392 - val_loss: 0.3808\n",
            "Epoch 2/80\n",
            "3/3 [==============================] - 0s 10ms/step - loss: 0.2277 - val_loss: 0.1300\n",
            "Epoch 3/80\n",
            "3/3 [==============================] - 0s 8ms/step - loss: 0.1782 - val_loss: 0.0636\n",
            "Epoch 4/80\n",
            "3/3 [==============================] - 0s 8ms/step - loss: 0.0367 - val_loss: 0.0614\n",
            "Epoch 5/80\n",
            "3/3 [==============================] - 0s 7ms/step - loss: 0.0680 - val_loss: 0.0302\n",
            "Epoch 6/80\n",
            "3/3 [==============================] - 0s 8ms/step - loss: 0.0243 - val_loss: 0.0705\n",
            "Epoch 7/80\n",
            "3/3 [==============================] - 0s 8ms/step - loss: 0.0579 - val_loss: 0.0555\n",
            "Epoch 8/80\n",
            "3/3 [==============================] - 0s 7ms/step - loss: 0.0280 - val_loss: 0.0310\n",
            "Epoch 9/80\n",
            "3/3 [==============================] - 0s 7ms/step - loss: 0.0372 - val_loss: 0.0129\n",
            "Epoch 10/80\n",
            "3/3 [==============================] - 0s 8ms/step - loss: 0.0104 - val_loss: 0.0141\n",
            "Epoch 11/80\n",
            "3/3 [==============================] - 0s 8ms/step - loss: 0.0176 - val_loss: 0.0019\n",
            "Epoch 12/80\n",
            "3/3 [==============================] - 0s 8ms/step - loss: 0.0044 - val_loss: 0.0134\n",
            "Epoch 13/80\n",
            "3/3 [==============================] - 0s 10ms/step - loss: 0.0091 - val_loss: 0.0022\n",
            "Epoch 14/80\n",
            "3/3 [==============================] - 0s 7ms/step - loss: 0.0052 - val_loss: 0.0087\n",
            "Epoch 15/80\n",
            "3/3 [==============================] - 0s 7ms/step - loss: 0.0053 - val_loss: 0.0020\n",
            "Epoch 16/80\n",
            "3/3 [==============================] - 0s 8ms/step - loss: 0.0037 - val_loss: 0.0022\n",
            "Epoch 17/80\n",
            "3/3 [==============================] - 0s 8ms/step - loss: 0.0011 - val_loss: 0.0012\n",
            "Epoch 18/80\n",
            "3/3 [==============================] - 0s 8ms/step - loss: 0.0017 - val_loss: 1.7701e-04\n",
            "Epoch 19/80\n",
            "3/3 [==============================] - 0s 8ms/step - loss: 6.9449e-04 - val_loss: 0.0014\n",
            "Epoch 20/80\n",
            "3/3 [==============================] - 0s 8ms/step - loss: 9.4479e-04 - val_loss: 7.7581e-04\n",
            "Epoch 21/80\n",
            "3/3 [==============================] - 0s 8ms/step - loss: 9.0999e-04 - val_loss: 8.9852e-04\n",
            "Epoch 22/80\n",
            "3/3 [==============================] - 0s 8ms/step - loss: 3.9951e-04 - val_loss: 5.5748e-04\n",
            "Epoch 23/80\n",
            "3/3 [==============================] - 0s 7ms/step - loss: 5.1626e-04 - val_loss: 1.0006e-05\n",
            "Epoch 24/80\n",
            "3/3 [==============================] - 0s 7ms/step - loss: 2.5523e-04 - val_loss: 2.1821e-04\n",
            "Epoch 25/80\n",
            "3/3 [==============================] - 0s 7ms/step - loss: 1.9830e-04 - val_loss: 4.5952e-04\n",
            "Epoch 26/80\n",
            "3/3 [==============================] - 0s 8ms/step - loss: 2.8196e-04 - val_loss: 5.5814e-05\n",
            "Epoch 27/80\n",
            "3/3 [==============================] - 0s 7ms/step - loss: 1.4091e-04 - val_loss: 1.5014e-04\n",
            "Epoch 28/80\n",
            "3/3 [==============================] - 0s 8ms/step - loss: 7.9008e-05 - val_loss: 8.3848e-05\n",
            "Epoch 29/80\n",
            "3/3 [==============================] - 0s 8ms/step - loss: 8.5050e-05 - val_loss: 4.9042e-06\n",
            "Epoch 30/80\n",
            "3/3 [==============================] - 0s 8ms/step - loss: 4.4749e-05 - val_loss: 4.1653e-05\n",
            "Epoch 31/80\n",
            "3/3 [==============================] - 0s 9ms/step - loss: 3.2751e-05 - val_loss: 6.8584e-05\n",
            "Epoch 32/80\n",
            "3/3 [==============================] - 0s 9ms/step - loss: 5.2296e-05 - val_loss: 1.1288e-05\n",
            "Epoch 33/80\n",
            "3/3 [==============================] - 0s 7ms/step - loss: 3.5149e-05 - val_loss: 2.5050e-05\n",
            "Epoch 34/80\n",
            "3/3 [==============================] - 0s 8ms/step - loss: 1.2015e-05 - val_loss: 2.4516e-05\n",
            "Epoch 35/80\n",
            "3/3 [==============================] - 0s 9ms/step - loss: 1.8703e-05 - val_loss: 9.9673e-06\n",
            "Epoch 36/80\n",
            "3/3 [==============================] - 0s 8ms/step - loss: 1.9277e-05 - val_loss: 5.2303e-06\n",
            "Epoch 37/80\n",
            "3/3 [==============================] - 0s 7ms/step - loss: 1.1409e-05 - val_loss: 1.5836e-05\n",
            "Epoch 38/80\n",
            "3/3 [==============================] - 0s 8ms/step - loss: 6.3802e-06 - val_loss: 9.1982e-06\n",
            "Epoch 39/80\n",
            "3/3 [==============================] - 0s 8ms/step - loss: 6.7313e-06 - val_loss: 7.6966e-07\n",
            "Epoch 40/80\n",
            "3/3 [==============================] - 0s 8ms/step - loss: 4.5433e-06 - val_loss: 1.0927e-06\n",
            "Epoch 41/80\n",
            "3/3 [==============================] - 0s 8ms/step - loss: 2.1329e-06 - val_loss: 4.1143e-06\n",
            "Epoch 42/80\n",
            "3/3 [==============================] - 0s 7ms/step - loss: 1.9803e-06 - val_loss: 2.7334e-06\n",
            "Epoch 43/80\n",
            "3/3 [==============================] - 0s 8ms/step - loss: 2.2239e-06 - val_loss: 3.4731e-07\n",
            "Epoch 44/80\n",
            "3/3 [==============================] - 0s 8ms/step - loss: 1.1935e-06 - val_loss: 3.1586e-07\n",
            "Epoch 45/80\n",
            "3/3 [==============================] - 0s 10ms/step - loss: 5.9173e-07 - val_loss: 1.1319e-06\n",
            "Epoch 46/80\n",
            "3/3 [==============================] - 0s 10ms/step - loss: 6.4618e-07 - val_loss: 1.0168e-06\n",
            "Epoch 47/80\n",
            "3/3 [==============================] - 0s 9ms/step - loss: 7.8129e-07 - val_loss: 3.8287e-07\n",
            "Epoch 48/80\n",
            "3/3 [==============================] - 0s 8ms/step - loss: 6.2049e-07 - val_loss: 2.9366e-08\n",
            "Epoch 49/80\n",
            "3/3 [==============================] - 0s 8ms/step - loss: 3.3008e-07 - val_loss: 3.1348e-07\n",
            "Epoch 50/80\n",
            "3/3 [==============================] - 0s 8ms/step - loss: 1.5457e-07 - val_loss: 3.0540e-07\n",
            "Epoch 51/80\n",
            "3/3 [==============================] - 0s 9ms/step - loss: 1.8247e-07 - val_loss: 2.0886e-07\n",
            "Epoch 52/80\n",
            "3/3 [==============================] - 0s 9ms/step - loss: 1.9248e-07 - val_loss: 2.9104e-08\n",
            "Epoch 53/80\n",
            "3/3 [==============================] - 0s 9ms/step - loss: 1.3387e-07 - val_loss: 2.1215e-08\n",
            "Epoch 54/80\n",
            "3/3 [==============================] - 0s 9ms/step - loss: 5.7867e-08 - val_loss: 6.8583e-08\n",
            "Epoch 55/80\n",
            "3/3 [==============================] - 0s 8ms/step - loss: 4.4743e-08 - val_loss: 6.3548e-08\n",
            "Epoch 56/80\n",
            "3/3 [==============================] - 0s 8ms/step - loss: 3.6182e-08 - val_loss: 4.1693e-08\n",
            "Epoch 57/80\n",
            "3/3 [==============================] - 0s 8ms/step - loss: 3.6070e-08 - val_loss: 1.6070e-08\n",
            "Epoch 58/80\n",
            "3/3 [==============================] - 0s 10ms/step - loss: 2.1310e-08 - val_loss: 7.1552e-11\n",
            "Epoch 59/80\n",
            "3/3 [==============================] - 0s 8ms/step - loss: 1.0843e-08 - val_loss: 4.0182e-09\n",
            "Epoch 60/80\n",
            "3/3 [==============================] - 0s 8ms/step - loss: 7.0225e-09 - val_loss: 8.0376e-09\n",
            "Epoch 61/80\n",
            "3/3 [==============================] - 0s 7ms/step - loss: 5.6409e-09 - val_loss: 8.2929e-09\n",
            "Epoch 62/80\n",
            "3/3 [==============================] - 0s 8ms/step - loss: 4.0033e-09 - val_loss: 4.6928e-09\n",
            "Epoch 63/80\n",
            "3/3 [==============================] - 0s 8ms/step - loss: 3.3500e-09 - val_loss: 1.3401e-09\n",
            "Epoch 64/80\n",
            "3/3 [==============================] - 0s 8ms/step - loss: 2.8566e-09 - val_loss: 4.3092e-10\n",
            "Epoch 65/80\n",
            "3/3 [==============================] - 0s 8ms/step - loss: 1.5919e-09 - val_loss: 9.4655e-10\n",
            "Epoch 66/80\n",
            "3/3 [==============================] - 0s 8ms/step - loss: 9.9350e-10 - val_loss: 1.1584e-09\n",
            "Epoch 67/80\n",
            "3/3 [==============================] - 0s 8ms/step - loss: 6.2499e-10 - val_loss: 1.4067e-09\n",
            "Epoch 68/80\n",
            "3/3 [==============================] - 0s 8ms/step - loss: 8.1059e-10 - val_loss: 9.4542e-10\n",
            "Epoch 69/80\n",
            "3/3 [==============================] - 0s 7ms/step - loss: 5.8642e-10 - val_loss: 4.9042e-10\n",
            "Epoch 70/80\n",
            "3/3 [==============================] - 0s 8ms/step - loss: 5.1164e-10 - val_loss: 2.3142e-10\n",
            "Epoch 71/80\n",
            "3/3 [==============================] - 0s 7ms/step - loss: 3.2583e-10 - val_loss: 3.1707e-11\n",
            "Epoch 72/80\n",
            "3/3 [==============================] - 0s 9ms/step - loss: 2.2570e-10 - val_loss: 7.9315e-11\n",
            "Epoch 73/80\n",
            "3/3 [==============================] - 0s 8ms/step - loss: 1.6886e-10 - val_loss: 1.0128e-10\n",
            "Epoch 74/80\n",
            "3/3 [==============================] - 0s 8ms/step - loss: 1.5104e-10 - val_loss: 1.3594e-10\n",
            "Epoch 75/80\n",
            "3/3 [==============================] - 0s 9ms/step - loss: 1.0489e-10 - val_loss: 1.4564e-10\n",
            "Epoch 76/80\n",
            "3/3 [==============================] - 0s 7ms/step - loss: 7.8450e-11 - val_loss: 1.4036e-10\n",
            "Epoch 77/80\n",
            "3/3 [==============================] - 0s 8ms/step - loss: 8.4311e-11 - val_loss: 1.2855e-10\n",
            "Epoch 78/80\n",
            "3/3 [==============================] - 0s 8ms/step - loss: 6.7802e-11 - val_loss: 4.6613e-11\n",
            "Epoch 79/80\n",
            "3/3 [==============================] - 0s 8ms/step - loss: 3.9351e-11 - val_loss: 1.5069e-11\n",
            "Epoch 80/80\n",
            "3/3 [==============================] - 0s 11ms/step - loss: 2.1986e-11 - val_loss: 1.5037e-11\n"
          ],
          "name": "stdout"
        }
      ]
    },
    {
      "cell_type": "code",
      "metadata": {
        "id": "Q2Rx8gb54tRw",
        "colab_type": "code",
        "colab": {
          "base_uri": "https://localhost:8080/",
          "height": 283
        },
        "outputId": "ac4a41a0-8a40-4b66-fd59-8f0011e65bf8"
      },
      "source": [
        "plt.plot(r.history['loss'], label='loss')\n",
        "plt.plot(r.history['val_loss'], label='val_loss')\n",
        "plt.legend()"
      ],
      "execution_count": 68,
      "outputs": [
        {
          "output_type": "execute_result",
          "data": {
            "text/plain": [
              "<matplotlib.legend.Legend at 0x7fae75df32e8>"
            ]
          },
          "metadata": {
            "tags": []
          },
          "execution_count": 68
        },
        {
          "output_type": "display_data",
          "data": {
            "image/png": "[encoded data removed]",
            "text/plain": [
              "<Figure size 432x288 with 1 Axes>"
            ]
          },
          "metadata": {
            "tags": [],
            "needs_background": "light"
          }
        }
      ]
    },
    {
      "cell_type": "code",
      "metadata": {
        "id": "FmBklK7P5gCR",
        "colab_type": "code",
        "colab": {}
      },
      "source": [
        "validation_target = Y[-N//2:]\n",
        "validation_predictions = []\n",
        "\n",
        "# first validation input\n",
        "last_x = X[-N//2] # 1-D array of length T\n",
        "\n",
        "while len(validation_predictions) < len(validation_target):\n",
        "  p = model.predict(last_x.reshape(1, -1))[0,0] # 1x1 array -> scalar\n",
        "  \n",
        "  # update the predictions list\n",
        "  validation_predictions.append(p)\n",
        "  \n",
        "  # make the new input\n",
        "  last_x = np.roll(last_x, -1)\n",
        "  last_x[-1] = p"
      ],
      "execution_count": 69,
      "outputs": []
    },
    {
      "cell_type": "code",
      "metadata": {
        "id": "xywn8fX9-vJ_",
        "colab_type": "code",
        "colab": {
          "base_uri": "https://localhost:8080/",
          "height": 283
        },
        "outputId": "d11ce235-7320-42fa-fadd-2dcadd9bc432"
      },
      "source": [
        "plt.plot(validation_target, label='forecast target')\n",
        "plt.plot(validation_predictions, label='forecast prediction')\n",
        "plt.legend()"
      ],
      "execution_count": 70,
      "outputs": [
        {
          "output_type": "execute_result",
          "data": {
            "text/plain": [
              "<matplotlib.legend.Legend at 0x7fae74d32b38>"
            ]
          },
          "metadata": {
            "tags": []
          },
          "execution_count": 70
        },
        {
          "output_type": "display_data",
          "data": {
            "image/png": "[encoded data removed]",
            "text/plain": [
              "<Figure size 432x288 with 1 Axes>"
            ]
          },
          "metadata": {
            "tags": [],
            "needs_background": "light"
          }
        }
      ]
    },
    {
      "cell_type": "code",
      "metadata": {
        "id": "lRq7BdD--9t6",
        "colab_type": "code",
        "colab": {}
      },
      "source": [
        ""
      ],
      "execution_count": null,
      "outputs": []
    }
  ]
}